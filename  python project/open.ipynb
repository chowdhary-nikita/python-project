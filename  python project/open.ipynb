{
 "cells": [
  {
   "cell_type": "code",
   "execution_count": null,
   "id": "ea0746cf",
   "metadata": {},
   "outputs": [],
   "source": [
    "import tkinter as tk\n",
    "from tkinter import filedialog\n",
    "\n",
    "# Function to open a file dialog and print the selected file path\n",
    "def open_file_dialog():\n",
    "    file_path = filedialog.askopenfilename()\n",
    "    if file_path:\n",
    "        print(\"Selected file:\", file_path)\n",
    "\n",
    "# Create the main application window\n",
    "root = tk.Tk()\n",
    "root.title(\"Main Window\")\n",
    "\n",
    "# Function to switch to the next page (window)\n",
    "def open_next_page():\n",
    "    root.withdraw()  # Hide the main window\n",
    "    next_window = tk.Toplevel(root)  # Create the next window (page)\n",
    "    next_window.title(\"Next Page\")\n",
    "\n",
    "    # Add a button in the next page to open the file dialog\n",
    "    open_button = tk.Button(next_window, text=\"Open File Dialog\", command=open_file_dialog)\n",
    "    open_button.pack()\n",
    "\n",
    "# Add a button in the main window to switch to the next page\n",
    "next_page_button = tk.Button(root, text=\"Go to Next Page\", command=open_next_page)\n",
    "next_page_button.pack()\n",
    "\n",
    "root.mainloop()\n"
   ]
  },
  {
   "cell_type": "code",
   "execution_count": null,
   "id": "21990753",
   "metadata": {},
   "outputs": [],
   "source": []
  },
  {
   "cell_type": "code",
   "execution_count": null,
   "id": "b8d9298b",
   "metadata": {},
   "outputs": [],
   "source": []
  },
  {
   "cell_type": "code",
   "execution_count": null,
   "id": "0904c1d5",
   "metadata": {},
   "outputs": [],
   "source": []
  },
  {
   "cell_type": "code",
   "execution_count": null,
   "id": "c251e2bd",
   "metadata": {},
   "outputs": [],
   "source": []
  },
  {
   "cell_type": "code",
   "execution_count": null,
   "id": "eb98a710",
   "metadata": {},
   "outputs": [],
   "source": []
  }
 ],
 "metadata": {
  "kernelspec": {
   "display_name": "Python 3 (ipykernel)",
   "language": "python",
   "name": "python3"
  },
  "language_info": {
   "codemirror_mode": {
    "name": "ipython",
    "version": 3
   },
   "file_extension": ".py",
   "mimetype": "text/x-python",
   "name": "python",
   "nbconvert_exporter": "python",
   "pygments_lexer": "ipython3",
   "version": "3.10.9"
  }
 },
 "nbformat": 4,
 "nbformat_minor": 5
}
